{
  "nbformat": 4,
  "nbformat_minor": 0,
  "metadata": {
    "colab": {
      "name": "python basics",
      "provenance": [],
      "authorship_tag": "ABX9TyO7lwqLwPs5PgYiydNC2Pxp",
      "include_colab_link": true
    },
    "kernelspec": {
      "name": "python3",
      "display_name": "Python 3"
    },
    "language_info": {
      "name": "python"
    }
  },
  "cells": [
    {
      "cell_type": "markdown",
      "metadata": {
        "id": "view-in-github",
        "colab_type": "text"
      },
      "source": [
        "<a href=\"https://colab.research.google.com/github/Abhilashkaundal/PYTHON-BASICS/blob/main/python_basics.ipynb\" target=\"_parent\"><img src=\"https://colab.research.google.com/assets/colab-badge.svg\" alt=\"Open In Colab\"/></a>"
      ]
    },
    {
      "cell_type": "code",
      "execution_count": 1,
      "metadata": {
        "colab": {
          "base_uri": "https://localhost:8080/"
        },
        "id": "GQpbxNvWQuRA",
        "outputId": "69cf52f1-aa8e-44b7-af72-3e5b58c02699"
      },
      "outputs": [
        {
          "output_type": "stream",
          "name": "stdout",
          "text": [
            "hello\n"
          ]
        }
      ],
      "source": [
        "print(\"hello\")"
      ]
    },
    {
      "cell_type": "code",
      "source": [
        "print(\"how are you\")"
      ],
      "metadata": {
        "colab": {
          "base_uri": "https://localhost:8080/"
        },
        "id": "oJ0hp2wvQylR",
        "outputId": "b0325f33-d9bc-4be7-919d-d4f496a822f9"
      },
      "execution_count": 2,
      "outputs": [
        {
          "output_type": "stream",
          "name": "stdout",
          "text": [
            "how are you\n"
          ]
        }
      ]
    },
    {
      "cell_type": "code",
      "source": [
        "print(\"hello\" ,end=\"\")\n",
        "print(\"how are you\")"
      ],
      "metadata": {
        "colab": {
          "base_uri": "https://localhost:8080/"
        },
        "id": "IXAWuhH8Q40t",
        "outputId": "1e70f7ad-c5a3-4438-a404-f9ea7a2ef801"
      },
      "execution_count": 3,
      "outputs": [
        {
          "output_type": "stream",
          "name": "stdout",
          "text": [
            "hellohow are you\n"
          ]
        }
      ]
    },
    {
      "cell_type": "code",
      "source": [
        "a=\"hii\"\n",
        "print(a)\n",
        "print(type(a))"
      ],
      "metadata": {
        "colab": {
          "base_uri": "https://localhost:8080/"
        },
        "id": "O_7PoaJeQ5S8",
        "outputId": "a4afcebd-2e8d-4cff-edc0-e8a49406626f"
      },
      "execution_count": 4,
      "outputs": [
        {
          "output_type": "stream",
          "name": "stdout",
          "text": [
            "hii\n",
            "<class 'str'>\n"
          ]
        }
      ]
    },
    {
      "cell_type": "code",
      "source": [
        "a=\"12\"\n",
        "b=int(a)\n",
        "print(a)\n",
        "print(b)\n"
      ],
      "metadata": {
        "colab": {
          "base_uri": "https://localhost:8080/"
        },
        "id": "-z5AwHkTQ7pH",
        "outputId": "a9dbb830-e53f-473f-e5a3-87ebeca7e5eb"
      },
      "execution_count": 5,
      "outputs": [
        {
          "output_type": "stream",
          "name": "stdout",
          "text": [
            "12\n",
            "12\n"
          ]
        }
      ]
    },
    {
      "cell_type": "code",
      "source": [
        "b='''abasjsdfsdjigietdxjiogdsgfdgvx\n",
        "sdcxmikvcfbkmlkfd;hfg\n",
        "dsfjgioifduiitjkxdkjtjigcv\n",
        "ciurditudhvjbhhfiuxjiyhanksushyurtthakaeeytrrhuvxcjil'''\n",
        "print(b)\n"
      ],
      "metadata": {
        "colab": {
          "base_uri": "https://localhost:8080/"
        },
        "id": "Dfr0h-opQ8MO",
        "outputId": "525f78fb-f353-47b1-896f-c2e921b8b54b"
      },
      "execution_count": 6,
      "outputs": [
        {
          "output_type": "stream",
          "name": "stdout",
          "text": [
            "abasjsdfsdjigietdxjiogdsgfdgvx\n",
            "sdcxmikvcfbkmlkfd;hfg\n",
            "dsfjgioifduiitjkxdkjtjigcv\n",
            "ciurditudhvjbhhfiuxjiyhanksushyurtthakaeeytrrhuvxcjil\n"
          ]
        }
      ]
    },
    {
      "cell_type": "code",
      "source": [
        "a='ANKUSH thakur\\'how are you'\n",
        "print(a)"
      ],
      "metadata": {
        "colab": {
          "base_uri": "https://localhost:8080/"
        },
        "id": "s2qvF8zsRBM6",
        "outputId": "5a9e7789-03cc-4ce2-85c6-601517240b8e"
      },
      "execution_count": 7,
      "outputs": [
        {
          "output_type": "stream",
          "name": "stdout",
          "text": [
            "ANKUSH thakur'how are you\n"
          ]
        }
      ]
    },
    {
      "cell_type": "code",
      "source": [
        "a=\"Ankush \\\"Thakur\\\"how are you\"\n",
        "print(a)"
      ],
      "metadata": {
        "colab": {
          "base_uri": "https://localhost:8080/"
        },
        "id": "RkXcFkPsREUc",
        "outputId": "987664e2-a95d-4708-a7ce-0a7ae8cf6462"
      },
      "execution_count": 8,
      "outputs": [
        {
          "output_type": "stream",
          "name": "stdout",
          "text": [
            "Ankush \"Thakur\"how are you\n"
          ]
        }
      ]
    },
    {
      "cell_type": "markdown",
      "source": [
        "# **SETS IN PYTHON**"
      ],
      "metadata": {
        "id": "E6KlJshoTt3G"
      }
    },
    {
      "cell_type": "code",
      "source": [
        "a={1,2,3,45,6,7}\n",
        "print(a)"
      ],
      "metadata": {
        "colab": {
          "base_uri": "https://localhost:8080/"
        },
        "id": "iad2q5M5TzGZ",
        "outputId": "24fdb7e2-46b2-4f77-ec54-d5de7d931dce"
      },
      "execution_count": 29,
      "outputs": [
        {
          "output_type": "stream",
          "name": "stdout",
          "text": [
            "{1, 2, 3, 6, 7, 45}\n"
          ]
        }
      ]
    },
    {
      "cell_type": "code",
      "source": [
        "a={1,2,3,45,6,7}\n",
        "b={1,2,4,6,9}\n",
        "z=a.intersection(b)\n",
        "print(z)"
      ],
      "metadata": {
        "colab": {
          "base_uri": "https://localhost:8080/"
        },
        "id": "XMNhZ9g_T3aZ",
        "outputId": "fa28a747-3bca-4cc8-ed8e-b40b23ba9111"
      },
      "execution_count": 30,
      "outputs": [
        {
          "output_type": "stream",
          "name": "stdout",
          "text": [
            "{1, 2, 6}\n"
          ]
        }
      ]
    },
    {
      "cell_type": "code",
      "source": [
        "a={1,2,3,45,6,7}\n",
        "b={1,2,4,6,9}\n",
        "a.update(b)\n",
        "print(a)"
      ],
      "metadata": {
        "colab": {
          "base_uri": "https://localhost:8080/"
        },
        "id": "tMg9r-gyT3W3",
        "outputId": "a6b6bb36-54d8-4999-d8ac-3ff9840f1e97"
      },
      "execution_count": 31,
      "outputs": [
        {
          "output_type": "stream",
          "name": "stdout",
          "text": [
            "{1, 2, 3, 4, 6, 7, 9, 45}\n"
          ]
        }
      ]
    },
    {
      "cell_type": "code",
      "source": [
        "a={1,2,3,45,6,7}\n",
        "b={1,2,4,6,9}\n",
        "z=a.union(b)\n",
        "print(z)"
      ],
      "metadata": {
        "colab": {
          "base_uri": "https://localhost:8080/"
        },
        "id": "DaEWwPqXT3TO",
        "outputId": "b0acc205-5f0e-4897-8530-551a9a3d4035"
      },
      "execution_count": 32,
      "outputs": [
        {
          "output_type": "stream",
          "name": "stdout",
          "text": [
            "{1, 2, 3, 4, 6, 7, 9, 45}\n"
          ]
        }
      ]
    },
    {
      "cell_type": "code",
      "source": [
        "a={1,2,3,45,6,7}\n",
        "k=list(a)\n",
        "k[2]=12\n",
        "a=set(k)\n",
        "print(a)"
      ],
      "metadata": {
        "colab": {
          "base_uri": "https://localhost:8080/"
        },
        "id": "eRbt36M8T3PX",
        "outputId": "8731fd88-3ddd-4af5-94fe-db0f36bf517f"
      },
      "execution_count": 33,
      "outputs": [
        {
          "output_type": "stream",
          "name": "stdout",
          "text": [
            "{1, 2, 6, 7, 12, 45}\n"
          ]
        }
      ]
    },
    {
      "cell_type": "code",
      "source": [
        "a={12,2,3,4,5,5}\n",
        "print(type(a))"
      ],
      "metadata": {
        "colab": {
          "base_uri": "https://localhost:8080/"
        },
        "id": "xMIB3aeVT3K4",
        "outputId": "c1b21771-c152-4e2f-cd15-e99fc4dbd31b"
      },
      "execution_count": 34,
      "outputs": [
        {
          "output_type": "stream",
          "name": "stdout",
          "text": [
            "<class 'set'>\n"
          ]
        }
      ]
    },
    {
      "cell_type": "code",
      "source": [
        "a={1,2,3,45,6,7}\n",
        "print(\"values:---\")\n",
        "for i in a:\n",
        "    print(i)\n",
        "print(type(a))    "
      ],
      "metadata": {
        "colab": {
          "base_uri": "https://localhost:8080/"
        },
        "id": "WvoDM5oeT3Gp",
        "outputId": "659238e4-1aeb-4442-c2ea-c26f841e9a0d"
      },
      "execution_count": 35,
      "outputs": [
        {
          "output_type": "stream",
          "name": "stdout",
          "text": [
            "values:---\n",
            "1\n",
            "2\n",
            "3\n",
            "6\n",
            "7\n",
            "45\n",
            "<class 'set'>\n"
          ]
        }
      ]
    },
    {
      "cell_type": "code",
      "source": [
        ""
      ],
      "metadata": {
        "id": "O1pKLqrST25o"
      },
      "execution_count": null,
      "outputs": []
    },
    {
      "cell_type": "markdown",
      "source": [
        "# **LIST AND TUPLE IN PYTHON**"
      ],
      "metadata": {
        "id": "3OQlkjZAUTjX"
      }
    },
    {
      "cell_type": "code",
      "source": [
        "p=([1,2,3,4,5,6,7,8])\n",
        "x=list(p)\n",
        "print(x)\n",
        "print(p)\n",
        "print(type(p))"
      ],
      "metadata": {
        "colab": {
          "base_uri": "https://localhost:8080/"
        },
        "id": "HQSZGDcgUWsp",
        "outputId": "61395ded-2b85-4330-c0e0-ad830893bcab"
      },
      "execution_count": 36,
      "outputs": [
        {
          "output_type": "stream",
          "name": "stdout",
          "text": [
            "[1, 2, 3, 4, 5, 6, 7, 8]\n",
            "[1, 2, 3, 4, 5, 6, 7, 8]\n",
            "<class 'list'>\n"
          ]
        }
      ]
    },
    {
      "cell_type": "code",
      "source": [
        "p=list((1,2,3,4,5,6,7,8))\n",
        "print(type(p))"
      ],
      "metadata": {
        "colab": {
          "base_uri": "https://localhost:8080/"
        },
        "id": "IIUCq2XdUXhz",
        "outputId": "5f832b8f-ea8a-4385-cf69-b8dcdca1cb00"
      },
      "execution_count": 37,
      "outputs": [
        {
          "output_type": "stream",
          "name": "stdout",
          "text": [
            "<class 'list'>\n"
          ]
        }
      ]
    },
    {
      "cell_type": "code",
      "source": [
        "p=[123,67,78,79,89,90]\n",
        "z=[46, 546 ]\n",
        "p.extend(z)\n",
        "print(p)\n",
        "print(type(p))"
      ],
      "metadata": {
        "colab": {
          "base_uri": "https://localhost:8080/"
        },
        "id": "mjb0glmTUXea",
        "outputId": "a6924819-cb94-4eb4-ef26-e60b0485b039"
      },
      "execution_count": 39,
      "outputs": [
        {
          "output_type": "stream",
          "name": "stdout",
          "text": [
            "[123, 67, 78, 79, 89, 90, 46, 546]\n",
            "<class 'list'>\n"
          ]
        }
      ]
    },
    {
      "cell_type": "code",
      "source": [
        "p=[88.4,\"pankaj \",55,44,55]\n",
        "print(\"your element\")\n",
        "for j in p:\n",
        "    print(j)\n",
        "print(type(p))    "
      ],
      "metadata": {
        "colab": {
          "base_uri": "https://localhost:8080/"
        },
        "id": "qh-AcT-gUXa4",
        "outputId": "86fa5834-03a4-4cec-89cd-92b66f803b4e"
      },
      "execution_count": 40,
      "outputs": [
        {
          "output_type": "stream",
          "name": "stdout",
          "text": [
            "your element\n",
            "88.4\n",
            "pankaj \n",
            "55\n",
            "44\n",
            "55\n",
            "<class 'list'>\n"
          ]
        }
      ]
    },
    {
      "cell_type": "code",
      "source": [
        "p=[123,67,78,79,89]\n",
        "print(p)\n",
        "type(p)\n"
      ],
      "metadata": {
        "colab": {
          "base_uri": "https://localhost:8080/"
        },
        "id": "g9yphDfeUXXI",
        "outputId": "d7608c48-1306-4a0b-e8fb-3573f8917fb3"
      },
      "execution_count": 41,
      "outputs": [
        {
          "output_type": "stream",
          "name": "stdout",
          "text": [
            "[123, 67, 78, 79, 89]\n"
          ]
        },
        {
          "output_type": "execute_result",
          "data": {
            "text/plain": [
              "list"
            ]
          },
          "metadata": {},
          "execution_count": 41
        }
      ]
    },
    {
      "cell_type": "code",
      "source": [
        "p=[123,67,78,79,89,.90]\n",
        "print(p[2:5])"
      ],
      "metadata": {
        "colab": {
          "base_uri": "https://localhost:8080/"
        },
        "id": "ekECB3usUXTX",
        "outputId": "3d35a8b0-a59e-4523-d6b3-226ae7a22c04"
      },
      "execution_count": 42,
      "outputs": [
        {
          "output_type": "stream",
          "name": "stdout",
          "text": [
            "[78, 79, 89]\n"
          ]
        }
      ]
    },
    {
      "cell_type": "code",
      "source": [
        "p=[123,67,78,79,89,90]\n",
        "z=p[2:5]\n",
        "print(z)\n",
        "print(z[0])"
      ],
      "metadata": {
        "colab": {
          "base_uri": "https://localhost:8080/"
        },
        "id": "l55xAuYHUXPX",
        "outputId": "373e7612-42fa-4bbb-cdb1-062aefc8320b"
      },
      "execution_count": 43,
      "outputs": [
        {
          "output_type": "stream",
          "name": "stdout",
          "text": [
            "[78, 79, 89]\n",
            "78\n"
          ]
        }
      ]
    },
    {
      "cell_type": "code",
      "source": [
        "p=(1,2,3,4,5,6,7,8)\n",
        "print(type(p))"
      ],
      "metadata": {
        "colab": {
          "base_uri": "https://localhost:8080/"
        },
        "id": "Ey2vNpXtUXLf",
        "outputId": "8891f068-8c40-4a1b-ceda-bf069b83ff41"
      },
      "execution_count": 44,
      "outputs": [
        {
          "output_type": "stream",
          "name": "stdout",
          "text": [
            "<class 'tuple'>\n"
          ]
        }
      ]
    },
    {
      "cell_type": "code",
      "source": [
        "p=(1,2,3,4,5,6,7,8)\n",
        "print(type(p))\n"
      ],
      "metadata": {
        "colab": {
          "base_uri": "https://localhost:8080/"
        },
        "id": "eb8JQ_KrVVUb",
        "outputId": "2b397da4-70df-47e2-ba4d-4bb0ce523fde"
      },
      "execution_count": 45,
      "outputs": [
        {
          "output_type": "stream",
          "name": "stdout",
          "text": [
            "<class 'tuple'>\n"
          ]
        }
      ]
    },
    {
      "cell_type": "code",
      "source": [
        "p=(1,2,3,4,5,6,7,8)\n",
        "print(p)\n",
        "print(type(p))"
      ],
      "metadata": {
        "colab": {
          "base_uri": "https://localhost:8080/"
        },
        "id": "g-aw-FgdVV92",
        "outputId": "4f595750-f250-4b06-d652-55fb0c446829"
      },
      "execution_count": 46,
      "outputs": [
        {
          "output_type": "stream",
          "name": "stdout",
          "text": [
            "(1, 2, 3, 4, 5, 6, 7, 8)\n",
            "<class 'tuple'>\n"
          ]
        }
      ]
    },
    {
      "cell_type": "markdown",
      "source": [
        "# DICTONARY"
      ],
      "metadata": {
        "id": "YZ4g1yQcVk-8"
      }
    },
    {
      "cell_type": "code",
      "source": [
        "student={\"name\": 'ankush',\"roll\":{\"cse\":'123'},\"class\":'12th'}\n",
        "print(student[\"roll\"][\"cse\"])\n",
        "print(student[\"class\"])\n",
        "print(type(student))"
      ],
      "metadata": {
        "colab": {
          "base_uri": "https://localhost:8080/"
        },
        "id": "ShlY7u2VVV6u",
        "outputId": "f3cf97b6-8f2a-4ef0-eb1d-a7f1ef333202"
      },
      "execution_count": 47,
      "outputs": [
        {
          "output_type": "stream",
          "name": "stdout",
          "text": [
            "123\n",
            "12th\n",
            "<class 'dict'>\n"
          ]
        }
      ]
    },
    {
      "cell_type": "code",
      "source": [
        "student={\"name\": 'ankush',\"roll\":'123',\"class\":'12th'}\n",
        "n=student.keys()\n",
        "for i in n:     \n",
        "    print(student[i])"
      ],
      "metadata": {
        "colab": {
          "base_uri": "https://localhost:8080/"
        },
        "id": "oYSIcKqAVVRQ",
        "outputId": "38299aee-d29e-4a18-d6b7-303a51fbf0c3"
      },
      "execution_count": 48,
      "outputs": [
        {
          "output_type": "stream",
          "name": "stdout",
          "text": [
            "ankush\n",
            "123\n",
            "12th\n"
          ]
        }
      ]
    },
    {
      "cell_type": "code",
      "source": [
        "student={\"name\": 'ankush',\"roll\":'123',\"class\":'12th'}\n",
        "n=student.keys()\n",
        "for j in n:\n",
        "    print(j)\n",
        "    print(student[j])"
      ],
      "metadata": {
        "colab": {
          "base_uri": "https://localhost:8080/"
        },
        "id": "_8Xvj1ZNVVN-",
        "outputId": "f91e87d8-c6ae-4871-eb06-30e407b37fab"
      },
      "execution_count": 49,
      "outputs": [
        {
          "output_type": "stream",
          "name": "stdout",
          "text": [
            "name\n",
            "ankush\n",
            "roll\n",
            "123\n",
            "class\n",
            "12th\n"
          ]
        }
      ]
    },
    {
      "cell_type": "code",
      "source": [
        "student={\"name\": 'ankush',\"roll\":'123',\"class\":'12th'}\n",
        "print(student[\"roll\"])"
      ],
      "metadata": {
        "colab": {
          "base_uri": "https://localhost:8080/"
        },
        "id": "JY03j8UWVVKj",
        "outputId": "a343bee0-ed71-4c1d-e635-5ff8e47eebd9"
      },
      "execution_count": 50,
      "outputs": [
        {
          "output_type": "stream",
          "name": "stdout",
          "text": [
            "123\n"
          ]
        }
      ]
    },
    {
      "cell_type": "code",
      "source": [
        "student={\"name\": 'ankush',\"roll\":'123',\"class\":'12th'}\n",
        "print(student[\"name\"])\n",
        "print(student[\"roll\"])"
      ],
      "metadata": {
        "colab": {
          "base_uri": "https://localhost:8080/"
        },
        "id": "BRFTJIZpVVG5",
        "outputId": "90570302-09e0-4c0c-e126-ff9e7da2267e"
      },
      "execution_count": 51,
      "outputs": [
        {
          "output_type": "stream",
          "name": "stdout",
          "text": [
            "ankush\n",
            "123\n"
          ]
        }
      ]
    },
    {
      "cell_type": "code",
      "source": [
        ""
      ],
      "metadata": {
        "id": "n2EELfAbVVC-"
      },
      "execution_count": null,
      "outputs": []
    },
    {
      "cell_type": "markdown",
      "source": [
        "# **condition STATEMENT**"
      ],
      "metadata": {
        "id": "XEeqTw__RQKw"
      }
    },
    {
      "cell_type": "code",
      "source": [
        "a=int(input(\"enter age\"))\n",
        "if a<18:\n",
        "     print(\"child\")\n",
        "elif a>18 and a<40:\n",
        "    print(\"young\")\n",
        "        \n",
        "else:\n",
        "    print(\"old\")\n",
        "b=float(input(\"enter your height\"))\n",
        "c=float(input(\"enter your weight\"))\n",
        "print(\"bmi:\",(c/b*b),2)"
      ],
      "metadata": {
        "colab": {
          "base_uri": "https://localhost:8080/"
        },
        "id": "j3cFhntDRG5W",
        "outputId": "65a721e7-5824-4cf5-e3c0-1ed72417bab9"
      },
      "execution_count": 9,
      "outputs": [
        {
          "output_type": "stream",
          "name": "stdout",
          "text": [
            "enter age12\n",
            "child\n",
            "enter your height6\n",
            "enter your weight6\n",
            "bmi: 6.0 2\n"
          ]
        }
      ]
    },
    {
      "cell_type": "code",
      "source": [
        "a=int(input(\"enter the value of a\"))\n",
        "for hp in range(a,6,-1): \n",
        "    print(hp)\n",
        "    "
      ],
      "metadata": {
        "colab": {
          "base_uri": "https://localhost:8080/"
        },
        "id": "5Yt0MPB5RH4y",
        "outputId": "ca128d8f-d9c2-4cb0-af9c-0ee04c477de7"
      },
      "execution_count": 10,
      "outputs": [
        {
          "output_type": "stream",
          "name": "stdout",
          "text": [
            "enter the value of a10\n",
            "10\n",
            "9\n",
            "8\n",
            "7\n"
          ]
        }
      ]
    },
    {
      "cell_type": "code",
      "source": [
        "a=int(input(\"enter the value of a\"))\n",
        "for hp in range(2,a,2): \n",
        "    print(hp)\n",
        "    "
      ],
      "metadata": {
        "colab": {
          "base_uri": "https://localhost:8080/"
        },
        "id": "ZU0gqMvgRH7Z",
        "outputId": "d3b9ff23-566a-4389-e662-a550aefe785d"
      },
      "execution_count": 11,
      "outputs": [
        {
          "output_type": "stream",
          "name": "stdout",
          "text": [
            "enter the value of a55\n",
            "2\n",
            "4\n",
            "6\n",
            "8\n",
            "10\n",
            "12\n",
            "14\n",
            "16\n",
            "18\n",
            "20\n",
            "22\n",
            "24\n",
            "26\n",
            "28\n",
            "30\n",
            "32\n",
            "34\n",
            "36\n",
            "38\n",
            "40\n",
            "42\n",
            "44\n",
            "46\n",
            "48\n",
            "50\n",
            "52\n",
            "54\n"
          ]
        }
      ]
    },
    {
      "cell_type": "code",
      "source": [
        "a=int(input(\"enter the value\"))\n",
        "for hp in range(a):\n",
        "    print(hp)\n",
        "    "
      ],
      "metadata": {
        "colab": {
          "base_uri": "https://localhost:8080/"
        },
        "id": "oOPLk3uKRH-K",
        "outputId": "ed968e58-269d-4f13-e377-a0d5a40855b7"
      },
      "execution_count": 12,
      "outputs": [
        {
          "output_type": "stream",
          "name": "stdout",
          "text": [
            "enter the value20\n",
            "0\n",
            "1\n",
            "2\n",
            "3\n",
            "4\n",
            "5\n",
            "6\n",
            "7\n",
            "8\n",
            "9\n",
            "10\n",
            "11\n",
            "12\n",
            "13\n",
            "14\n",
            "15\n",
            "16\n",
            "17\n",
            "18\n",
            "19\n"
          ]
        }
      ]
    },
    {
      "cell_type": "code",
      "source": [
        "a=int(input(\"enter the value of a\"))\n",
        "if a>=1 or a<=2:\n",
        "    if a%2==0:\n",
        "        print(\"even\")\n",
        "    else:\n",
        "        print(\"odd\")\n",
        "else:\n",
        "    print(\"you are in else\")"
      ],
      "metadata": {
        "colab": {
          "base_uri": "https://localhost:8080/"
        },
        "id": "kqfQgKKzRIA8",
        "outputId": "4bfa6c84-a0d5-444f-e7ae-d5454c0fac9f"
      },
      "execution_count": 13,
      "outputs": [
        {
          "output_type": "stream",
          "name": "stdout",
          "text": [
            "enter the value of a10\n",
            "even\n"
          ]
        }
      ]
    },
    {
      "cell_type": "code",
      "source": [
        "a=int(input(\"enter the value of a\"))\n",
        "if a==10 or a>30:\n",
        "    print('you are in if ')\n",
        "else:\n",
        "    print(\"you are in \")"
      ],
      "metadata": {
        "colab": {
          "base_uri": "https://localhost:8080/"
        },
        "id": "sR1VzY-FRIDm",
        "outputId": "b10c2fd5-6fcb-470c-b34c-1737daac1a01"
      },
      "execution_count": 15,
      "outputs": [
        {
          "output_type": "stream",
          "name": "stdout",
          "text": [
            "enter the value of a5\n",
            "you are in \n"
          ]
        }
      ]
    },
    {
      "cell_type": "code",
      "source": [
        "a=int(input(\"enter the value of a=\"))\n",
        "b=int(input(\"enter the value of b=\"))\n",
        "if a>b:\n",
        "    print(\"a is g than b\")\n",
        "    print(\"hii\")\n",
        "else:\n",
        "         print(\"python\")\n",
        "    "
      ],
      "metadata": {
        "colab": {
          "base_uri": "https://localhost:8080/"
        },
        "id": "bZ6JF0gZRIGX",
        "outputId": "48021454-d87b-4ce4-ccd4-a0b84008b11c"
      },
      "execution_count": 16,
      "outputs": [
        {
          "output_type": "stream",
          "name": "stdout",
          "text": [
            "enter the value of a=10\n",
            "enter the value of b=20\n",
            "python\n"
          ]
        }
      ]
    },
    {
      "cell_type": "code",
      "source": [
        "a=int(input(\"enter the value of a\"))\n",
        "b=int(input(\"enter the value of b\"))\n",
        "if a>b:\n",
        "    print(\"a is g than b\")\n",
        "    print(\"hii\")\n",
        "elif b>a:\n",
        "    print(\"b is gtr than a\")\n",
        "else:\n",
        "    print(\"python\")"
      ],
      "metadata": {
        "colab": {
          "base_uri": "https://localhost:8080/"
        },
        "id": "SboYOaUsRIJC",
        "outputId": "fea08bcf-f149-4ecb-b876-5c46977015b4"
      },
      "execution_count": 17,
      "outputs": [
        {
          "output_type": "stream",
          "name": "stdout",
          "text": [
            "enter the value of a10\n",
            "enter the value of b16\n",
            "b is gtr than a\n"
          ]
        }
      ]
    },
    {
      "cell_type": "code",
      "source": [
        ""
      ],
      "metadata": {
        "id": "BBmX2KFSRILs"
      },
      "execution_count": 17,
      "outputs": []
    },
    {
      "cell_type": "code",
      "source": [
        ""
      ],
      "metadata": {
        "id": "cvJAYrp9RIOW"
      },
      "execution_count": null,
      "outputs": []
    },
    {
      "cell_type": "code",
      "source": [
        ""
      ],
      "metadata": {
        "id": "0Pp0_GIpRIQt"
      },
      "execution_count": null,
      "outputs": []
    },
    {
      "cell_type": "code",
      "source": [
        ""
      ],
      "metadata": {
        "id": "3vsR94IHRITX"
      },
      "execution_count": null,
      "outputs": []
    },
    {
      "cell_type": "code",
      "source": [
        ""
      ],
      "metadata": {
        "id": "xbRNh6ToRIVB"
      },
      "execution_count": null,
      "outputs": []
    },
    {
      "cell_type": "code",
      "source": [
        ""
      ],
      "metadata": {
        "id": "mnsj655rRIWZ"
      },
      "execution_count": null,
      "outputs": []
    },
    {
      "cell_type": "code",
      "source": [
        ""
      ],
      "metadata": {
        "id": "O0LrM9kLRIYc"
      },
      "execution_count": null,
      "outputs": []
    },
    {
      "cell_type": "code",
      "source": [
        ""
      ],
      "metadata": {
        "id": "IntyT-0zRIaq"
      },
      "execution_count": null,
      "outputs": []
    },
    {
      "cell_type": "code",
      "source": [
        ""
      ],
      "metadata": {
        "id": "mdWqYe3BRIeQ"
      },
      "execution_count": null,
      "outputs": []
    },
    {
      "cell_type": "markdown",
      "source": [
        "# **FILE HANDLING**"
      ],
      "metadata": {
        "id": "NOImMr9KSdKH"
      }
    },
    {
      "cell_type": "code",
      "source": [
        "n=input(\"entr the file name::\")\n",
        "p=open(\"E:\\\\important\\\\\"+n+\".txt\")\n",
        "print(\"file create\")"
      ],
      "metadata": {
        "colab": {
          "base_uri": "https://localhost:8080/",
          "height": 217
        },
        "id": "zXih55TLSjHA",
        "outputId": "84175f2e-ee42-4732-9575-655ac6355a3f"
      },
      "execution_count": 20,
      "outputs": [
        {
          "name": "stdout",
          "output_type": "stream",
          "text": [
            "entr the file name::lo\n"
          ]
        },
        {
          "output_type": "error",
          "ename": "FileNotFoundError",
          "evalue": "ignored",
          "traceback": [
            "\u001b[0;31m---------------------------------------------------------------------------\u001b[0m",
            "\u001b[0;31mFileNotFoundError\u001b[0m                         Traceback (most recent call last)",
            "\u001b[0;32m<ipython-input-20-09b8dbc9199a>\u001b[0m in \u001b[0;36m<module>\u001b[0;34m()\u001b[0m\n\u001b[1;32m      1\u001b[0m \u001b[0mn\u001b[0m\u001b[0;34m=\u001b[0m\u001b[0minput\u001b[0m\u001b[0;34m(\u001b[0m\u001b[0;34m\"entr the file name::\"\u001b[0m\u001b[0;34m)\u001b[0m\u001b[0;34m\u001b[0m\u001b[0;34m\u001b[0m\u001b[0m\n\u001b[0;32m----> 2\u001b[0;31m \u001b[0mp\u001b[0m\u001b[0;34m=\u001b[0m\u001b[0mopen\u001b[0m\u001b[0;34m(\u001b[0m\u001b[0;34m\"E:\\\\important\\\\\"\u001b[0m\u001b[0;34m+\u001b[0m\u001b[0mn\u001b[0m\u001b[0;34m+\u001b[0m\u001b[0;34m\".txt\"\u001b[0m\u001b[0;34m)\u001b[0m\u001b[0;34m\u001b[0m\u001b[0;34m\u001b[0m\u001b[0m\n\u001b[0m\u001b[1;32m      3\u001b[0m \u001b[0mprint\u001b[0m\u001b[0;34m(\u001b[0m\u001b[0;34m\"file create\"\u001b[0m\u001b[0;34m)\u001b[0m\u001b[0;34m\u001b[0m\u001b[0;34m\u001b[0m\u001b[0m\n",
            "\u001b[0;31mFileNotFoundError\u001b[0m: [Errno 2] No such file or directory: 'E:\\\\important\\\\lo.txt'"
          ]
        }
      ]
    },
    {
      "cell_type": "code",
      "source": [
        "p=open(\"E:\\\\important\\\\record.txt\",\"r\")\n",
        "print(p.read(50))\n",
        "p.close()"
      ],
      "metadata": {
        "colab": {
          "base_uri": "https://localhost:8080/",
          "height": 200
        },
        "id": "YcBJPHFwSocy",
        "outputId": "3a761290-0249-4059-834b-56a0b9de54bf"
      },
      "execution_count": 19,
      "outputs": [
        {
          "output_type": "error",
          "ename": "FileNotFoundError",
          "evalue": "ignored",
          "traceback": [
            "\u001b[0;31m---------------------------------------------------------------------------\u001b[0m",
            "\u001b[0;31mFileNotFoundError\u001b[0m                         Traceback (most recent call last)",
            "\u001b[0;32m<ipython-input-19-41c3785864b4>\u001b[0m in \u001b[0;36m<module>\u001b[0;34m()\u001b[0m\n\u001b[0;32m----> 1\u001b[0;31m \u001b[0mp\u001b[0m\u001b[0;34m=\u001b[0m\u001b[0mopen\u001b[0m\u001b[0;34m(\u001b[0m\u001b[0;34m\"E:\\\\important\\\\record.txt\"\u001b[0m\u001b[0;34m,\u001b[0m\u001b[0;34m\"r\"\u001b[0m\u001b[0;34m)\u001b[0m\u001b[0;34m\u001b[0m\u001b[0;34m\u001b[0m\u001b[0m\n\u001b[0m\u001b[1;32m      2\u001b[0m \u001b[0mprint\u001b[0m\u001b[0;34m(\u001b[0m\u001b[0mp\u001b[0m\u001b[0;34m.\u001b[0m\u001b[0mread\u001b[0m\u001b[0;34m(\u001b[0m\u001b[0;36m50\u001b[0m\u001b[0;34m)\u001b[0m\u001b[0;34m)\u001b[0m\u001b[0;34m\u001b[0m\u001b[0;34m\u001b[0m\u001b[0m\n\u001b[1;32m      3\u001b[0m \u001b[0mp\u001b[0m\u001b[0;34m.\u001b[0m\u001b[0mclose\u001b[0m\u001b[0;34m(\u001b[0m\u001b[0;34m)\u001b[0m\u001b[0;34m\u001b[0m\u001b[0;34m\u001b[0m\u001b[0m\n",
            "\u001b[0;31mFileNotFoundError\u001b[0m: [Errno 2] No such file or directory: 'E:\\\\important\\\\record.txt'"
          ]
        }
      ]
    },
    {
      "cell_type": "code",
      "source": [
        "import os\n",
        "if os.path.exists(\"E:\\\\important\\\\ra.txt\"):\n",
        "    print(\"flie available\")\n",
        "    os.remove(\"E:\\\\important\\\\ra.txt\")\n",
        "    print(\"file remove\")\n",
        "else:\n",
        "    print (\" file not\")"
      ],
      "metadata": {
        "colab": {
          "base_uri": "https://localhost:8080/"
        },
        "id": "Kc88tPJASvHr",
        "outputId": "0b77d9de-ce8c-4f21-ce38-1870384bd511"
      },
      "execution_count": 21,
      "outputs": [
        {
          "output_type": "stream",
          "name": "stdout",
          "text": [
            " file not\n"
          ]
        }
      ]
    },
    {
      "cell_type": "code",
      "source": [
        "a=open(\"E:\\\\important\\\\ras.txt\",\"a\")\n",
        "m=input(\"enter the name\")\n",
        "a.write(m)\n",
        "print(\"file success\")\n",
        "a.close()"
      ],
      "metadata": {
        "colab": {
          "base_uri": "https://localhost:8080/"
        },
        "id": "DoYof27iS3Sg",
        "outputId": "210475fd-8084-4788-cfb1-f53800d6a90c"
      },
      "execution_count": 22,
      "outputs": [
        {
          "output_type": "stream",
          "name": "stdout",
          "text": [
            "enter the name my name is abhilash\n",
            "file success\n"
          ]
        }
      ]
    },
    {
      "cell_type": "code",
      "source": [
        "m=open(\"E:\\\\important\\\\asdf.csv\",\"r\")\n",
        "print(m.read())"
      ],
      "metadata": {
        "colab": {
          "base_uri": "https://localhost:8080/",
          "height": 182
        },
        "id": "u70Aiw0zS63m",
        "outputId": "9e4404a5-5f98-4221-d2b3-357d7a018717"
      },
      "execution_count": 23,
      "outputs": [
        {
          "output_type": "error",
          "ename": "FileNotFoundError",
          "evalue": "ignored",
          "traceback": [
            "\u001b[0;31m---------------------------------------------------------------------------\u001b[0m",
            "\u001b[0;31mFileNotFoundError\u001b[0m                         Traceback (most recent call last)",
            "\u001b[0;32m<ipython-input-23-51999406110d>\u001b[0m in \u001b[0;36m<module>\u001b[0;34m()\u001b[0m\n\u001b[0;32m----> 1\u001b[0;31m \u001b[0mm\u001b[0m\u001b[0;34m=\u001b[0m\u001b[0mopen\u001b[0m\u001b[0;34m(\u001b[0m\u001b[0;34m\"E:\\\\important\\\\asdf.csv\"\u001b[0m\u001b[0;34m,\u001b[0m\u001b[0;34m\"r\"\u001b[0m\u001b[0;34m)\u001b[0m\u001b[0;34m\u001b[0m\u001b[0;34m\u001b[0m\u001b[0m\n\u001b[0m\u001b[1;32m      2\u001b[0m \u001b[0mprint\u001b[0m\u001b[0;34m(\u001b[0m\u001b[0mm\u001b[0m\u001b[0;34m.\u001b[0m\u001b[0mread\u001b[0m\u001b[0;34m(\u001b[0m\u001b[0;34m)\u001b[0m\u001b[0;34m)\u001b[0m\u001b[0;34m\u001b[0m\u001b[0;34m\u001b[0m\u001b[0m\n",
            "\u001b[0;31mFileNotFoundError\u001b[0m: [Errno 2] No such file or directory: 'E:\\\\important\\\\asdf.csv'"
          ]
        }
      ]
    },
    {
      "cell_type": "code",
      "source": [
        "n=input(\"enter file\")\n",
        "a=open(\"E:\\\\important\\\\\"+n+\".html\",\"x\")\n",
        "print(\"file created\")"
      ],
      "metadata": {
        "colab": {
          "base_uri": "https://localhost:8080/"
        },
        "id": "rgcCBOh1TADN",
        "outputId": "cbfe07d2-b993-4829-acde-1345a9c47924"
      },
      "execution_count": 24,
      "outputs": [
        {
          "output_type": "stream",
          "name": "stdout",
          "text": [
            "enter filei am a workwee\n",
            "file created\n"
          ]
        }
      ]
    },
    {
      "cell_type": "code",
      "source": [
        "import os\n",
        "os.path.exists(\"E:\\\\important\\\\ record.txt\")\n",
        "print(\"flie available\")\n"
      ],
      "metadata": {
        "colab": {
          "base_uri": "https://localhost:8080/"
        },
        "id": "YXUOEimxTElg",
        "outputId": "bc94e032-c77c-40ee-baef-5bbf8f94379b"
      },
      "execution_count": 25,
      "outputs": [
        {
          "output_type": "stream",
          "name": "stdout",
          "text": [
            "flie available\n"
          ]
        }
      ]
    },
    {
      "cell_type": "code",
      "source": [
        "p=open(\"E:\\\\important\\\\sec 34a.txt\",\"x\")\n",
        "p.close()\n",
        "print(\"file add\")\n"
      ],
      "metadata": {
        "colab": {
          "base_uri": "https://localhost:8080/"
        },
        "id": "FBQld5G2TLCI",
        "outputId": "92182be0-f809-489a-af0e-8050732cc6d0"
      },
      "execution_count": 26,
      "outputs": [
        {
          "output_type": "stream",
          "name": "stdout",
          "text": [
            "file add\n"
          ]
        }
      ]
    },
    {
      "cell_type": "code",
      "source": [
        "import os\n",
        "os.remove(\"E:\\\\important\\\\sec 34a.txt\")\n",
        "print(\"flie deleted\")"
      ],
      "metadata": {
        "colab": {
          "base_uri": "https://localhost:8080/"
        },
        "id": "0_Q4A1MOTQxY",
        "outputId": "bf987172-2c9f-479f-fee7-2e231f51e384"
      },
      "execution_count": 27,
      "outputs": [
        {
          "output_type": "stream",
          "name": "stdout",
          "text": [
            "flie deleted\n"
          ]
        }
      ]
    },
    {
      "cell_type": "code",
      "source": [
        "p=open(\"E:\\\\important\\\\record.txt\",\"w\")\n",
        "n=input(\"enter the name\")\n",
        "p.write(n)\n",
        "\n",
        "print(\"file is success\")\n",
        "p.close()"
      ],
      "metadata": {
        "colab": {
          "base_uri": "https://localhost:8080/"
        },
        "id": "qwOqLxPSTXoA",
        "outputId": "e8261236-eed0-4abd-e8f4-6bc0e714733b"
      },
      "execution_count": 28,
      "outputs": [
        {
          "output_type": "stream",
          "name": "stdout",
          "text": [
            "enter the nameabhilash\n",
            "file is success\n"
          ]
        }
      ]
    },
    {
      "cell_type": "code",
      "source": [
        ""
      ],
      "metadata": {
        "id": "j-fdS546Tajx"
      },
      "execution_count": null,
      "outputs": []
    }
  ]
}