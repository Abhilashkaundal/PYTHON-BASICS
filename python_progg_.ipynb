{
  "nbformat": 4,
  "nbformat_minor": 0,
  "metadata": {
    "colab": {
      "name": "python progg.",
      "provenance": [],
      "authorship_tag": "ABX9TyNd+a9uc3aCxeXWbPCbge9/",
      "include_colab_link": true
    },
    "kernelspec": {
      "name": "python3",
      "display_name": "Python 3"
    },
    "language_info": {
      "name": "python"
    }
  },
  "cells": [
    {
      "cell_type": "markdown",
      "metadata": {
        "id": "view-in-github",
        "colab_type": "text"
      },
      "source": [
        "<a href=\"https://colab.research.google.com/github/Abhilashkaundal/PYTHON-BASICS/blob/main/python_progg_.ipynb\" target=\"_parent\"><img src=\"https://colab.research.google.com/assets/colab-badge.svg\" alt=\"Open In Colab\"/></a>"
      ]
    },
    {
      "cell_type": "markdown",
      "source": [
        "# **FUNCTION **"
      ],
      "metadata": {
        "id": "Gmg3fT5VXteQ"
      }
    },
    {
      "cell_type": "code",
      "execution_count": null,
      "metadata": {
        "colab": {
          "base_uri": "https://localhost:8080/"
        },
        "id": "BsrAn0ZuXqiy",
        "outputId": "7d9c2a1a-91d2-4be5-8859-5af886dece76"
      },
      "outputs": [
        {
          "output_type": "stream",
          "name": "stdout",
          "text": [
            "  15\n"
          ]
        }
      ],
      "source": [
        "def hello (a,b):\n",
        "    return lambda s:s+a+b\n",
        "h=hello(4,5)\n",
        "k=h(6)\n",
        "print(\" \",k)"
      ]
    },
    {
      "cell_type": "code",
      "source": [
        "a=lambda a:a+3*(3-1)\n",
        "j=a(2)\n",
        "print(\"ans is\",j)"
      ],
      "metadata": {
        "colab": {
          "base_uri": "https://localhost:8080/"
        },
        "id": "XkIujKQUX0UG",
        "outputId": "2caff931-895e-442d-8eea-046108b37a7e"
      },
      "execution_count": null,
      "outputs": [
        {
          "output_type": "stream",
          "name": "stdout",
          "text": [
            "ans is 8\n"
          ]
        }
      ]
    },
    {
      "cell_type": "code",
      "source": [
        "a=lambda a,b:a*b\n",
        "j=a(2,5)\n",
        "print(\"ans. is\",j)"
      ],
      "metadata": {
        "colab": {
          "base_uri": "https://localhost:8080/"
        },
        "id": "Uj1SDY8yX26h",
        "outputId": "838f591a-05d9-4930-9a75-bed7052c076f"
      },
      "execution_count": null,
      "outputs": [
        {
          "output_type": "stream",
          "name": "stdout",
          "text": [
            "ans. is 10\n"
          ]
        }
      ]
    },
    {
      "cell_type": "code",
      "source": [
        "def chd():\n",
        "    print(\"welcme to my himachal\")\n",
        "    \n",
        "def mobile():\n",
        "    a=12\n",
        "    b=34\n",
        "    c=a+b\n",
        "    print(\"sum is \",c)\n",
        "    \n",
        "chd()\n",
        "chd()\n",
        "chd()\n",
        "mobile()"
      ],
      "metadata": {
        "colab": {
          "base_uri": "https://localhost:8080/"
        },
        "id": "JIvu51G7X4ji",
        "outputId": "bf50f4d3-c59f-4cfe-a8c1-6b7c9ad05027"
      },
      "execution_count": null,
      "outputs": [
        {
          "output_type": "stream",
          "name": "stdout",
          "text": [
            "welcme to my himachal\n",
            "welcme to my himachal\n",
            "welcme to my himachal\n",
            "sum is  46\n"
          ]
        }
      ]
    },
    {
      "cell_type": "code",
      "source": [
        "def student(a,b):\n",
        "    c=a+b\n",
        "    return c\n",
        "def sst(a):\n",
        "    z=student(2,5)\n",
        "    k=a-z\n",
        "    return k\n",
        "j=sst(12)\n",
        "print(\"ans\",j)\n"
      ],
      "metadata": {
        "colab": {
          "base_uri": "https://localhost:8080/"
        },
        "id": "wFjaNk0pX6fW",
        "outputId": "196178bb-6d0d-478d-8f05-d37d3b83329a"
      },
      "execution_count": null,
      "outputs": [
        {
          "output_type": "stream",
          "name": "stdout",
          "text": [
            "ans 5\n"
          ]
        }
      ]
    },
    {
      "cell_type": "code",
      "source": [
        "def record(**a):\n",
        "    print(\"my name is \",a[\"name\"])\n",
        "    print(\"my roll number is\",a[\"roll\"])\n",
        "record(name=\"ankush\",roll=12) "
      ],
      "metadata": {
        "colab": {
          "base_uri": "https://localhost:8080/"
        },
        "id": "81FBVJCZX86A",
        "outputId": "22216ac3-7858-48bb-ae72-7f8766abf436"
      },
      "execution_count": null,
      "outputs": [
        {
          "output_type": "stream",
          "name": "stdout",
          "text": [
            "my name is  ankush\n",
            "my roll number is 12\n"
          ]
        }
      ]
    },
    {
      "cell_type": "code",
      "source": [
        "def student(a,b):\n",
        "    print(\"value is \",a)\n",
        "    print(\"value is\",b)\n",
        "student(a=12,b=23)"
      ],
      "metadata": {
        "colab": {
          "base_uri": "https://localhost:8080/"
        },
        "id": "olKfsArWX-5K",
        "outputId": "ddb020ba-9b08-4ae2-b020-cac9ccee1ebe"
      },
      "execution_count": null,
      "outputs": [
        {
          "output_type": "stream",
          "name": "stdout",
          "text": [
            "value is  12\n",
            "value is 23\n"
          ]
        }
      ]
    },
    {
      "cell_type": "code",
      "source": [
        "def student(*a):\n",
        "    for k in a:\n",
        "        print (\"value is\",k)\n",
        "\n",
        "student(12,23,34,45,67,67,68,78,789)"
      ],
      "metadata": {
        "colab": {
          "base_uri": "https://localhost:8080/"
        },
        "id": "JI52dbPMYA7r",
        "outputId": "b91594a9-ba95-4252-e778-248c6f90fc5f"
      },
      "execution_count": null,
      "outputs": [
        {
          "output_type": "stream",
          "name": "stdout",
          "text": [
            "value is 12\n",
            "value is 23\n",
            "value is 34\n",
            "value is 45\n",
            "value is 67\n",
            "value is 67\n",
            "value is 68\n",
            "value is 78\n",
            "value is 789\n"
          ]
        }
      ]
    },
    {
      "cell_type": "code",
      "source": [
        "def student(*a):\n",
        "    print(\"value is \",a[0])\n",
        "    print(\"value is\",a[4])\n",
        "student(12,23,34,45,67,67,68,78,789)"
      ],
      "metadata": {
        "colab": {
          "base_uri": "https://localhost:8080/"
        },
        "id": "Z-cYXg0QYDaS",
        "outputId": "6f58611f-b246-49f3-b575-8f928762013b"
      },
      "execution_count": null,
      "outputs": [
        {
          "output_type": "stream",
          "name": "stdout",
          "text": [
            "value is  12\n",
            "value is 67\n"
          ]
        }
      ]
    },
    {
      "cell_type": "code",
      "source": [
        "def hii(a,b):\n",
        "    c=a+b\n",
        "    print(\"sum is\",c)\n",
        "x=int(input(\"enter the value of a\"))\n",
        "y=int(input('enter the value of b'))\n",
        "hii(x,y)"
      ],
      "metadata": {
        "colab": {
          "base_uri": "https://localhost:8080/"
        },
        "id": "pZW24Xu_YF2o",
        "outputId": "fd64accb-1d1e-4d42-f12f-525d42c6ce48"
      },
      "execution_count": null,
      "outputs": [
        {
          "output_type": "stream",
          "name": "stdout",
          "text": [
            "enter the value of a10\n",
            "enter the value of b12\n",
            "sum is 22\n"
          ]
        }
      ]
    },
    {
      "cell_type": "code",
      "source": [
        "a=45\n",
        "def chd():\n",
        "    print(\"welcme to my himachal\")\n",
        "    global a\n",
        "    a=55\n",
        "    print(\"your value is\",a)\n",
        "def mobile():\n",
        "    a=12\n",
        "    b=34\n",
        "    c=a+b\n",
        "    print(\"sum is \",c)\n",
        "    \n",
        "chd()\n",
        "chd()\n",
        "chd()\n",
        "print(\"outer vlaue is\",a)\n",
        "mobile()"
      ],
      "metadata": {
        "colab": {
          "base_uri": "https://localhost:8080/"
        },
        "id": "B_vhw6NDYIRW",
        "outputId": "67d58846-3efb-41fc-c9e5-f0996fbc133f"
      },
      "execution_count": null,
      "outputs": [
        {
          "output_type": "stream",
          "name": "stdout",
          "text": [
            "welcme to my himachal\n",
            "your value is 55\n",
            "welcme to my himachal\n",
            "your value is 55\n",
            "welcme to my himachal\n",
            "your value is 55\n",
            "outer vlaue is 55\n",
            "sum is  46\n"
          ]
        }
      ]
    },
    {
      "cell_type": "code",
      "source": [
        ""
      ],
      "metadata": {
        "id": "YzhsGdKgYN3G"
      },
      "execution_count": null,
      "outputs": []
    },
    {
      "cell_type": "markdown",
      "source": [
        "# **LOOPING**"
      ],
      "metadata": {
        "id": "viJ5ARYYYRUT"
      }
    },
    {
      "cell_type": "code",
      "source": [
        "for i in range(-10,0,1):\n",
        "    print(i)"
      ],
      "metadata": {
        "colab": {
          "base_uri": "https://localhost:8080/"
        },
        "id": "jIz9yQ_YYVR-",
        "outputId": "47f72036-84af-4eb4-bdd3-370b974aaa23"
      },
      "execution_count": null,
      "outputs": [
        {
          "output_type": "stream",
          "name": "stdout",
          "text": [
            "-10\n",
            "-9\n",
            "-8\n",
            "-7\n",
            "-6\n",
            "-5\n",
            "-4\n",
            "-3\n",
            "-2\n",
            "-1\n"
          ]
        }
      ]
    },
    {
      "cell_type": "code",
      "source": [
        "\n",
        "for i in range(200,0,7):\n",
        "     print(i)"
      ],
      "metadata": {
        "id": "ogO7uHgqYZHP"
      },
      "execution_count": null,
      "outputs": []
    },
    {
      "cell_type": "code",
      "source": [
        "n=int(input(\"entr the value\"))\n",
        "count=0\n",
        "while (n!=0):\n",
        "    n=n//10\n",
        "    count=count+1\n",
        "print(count)"
      ],
      "metadata": {
        "colab": {
          "base_uri": "https://localhost:8080/"
        },
        "id": "gIiOQKmLYbgf",
        "outputId": "9b89834d-4f66-4f02-8a1e-593bd2710e52"
      },
      "execution_count": null,
      "outputs": [
        {
          "output_type": "stream",
          "name": "stdout",
          "text": [
            "entr the value10\n",
            "2\n"
          ]
        }
      ]
    },
    {
      "cell_type": "code",
      "source": [
        "list=[12,32,15,42,55,75,122,132,150,173,200,248,201,300,400]\n",
        "for i in list:\n",
        "    if(i>200):\n",
        "        break\n",
        "    if(i%5==0):\n",
        "        print(i)"
      ],
      "metadata": {
        "colab": {
          "base_uri": "https://localhost:8080/"
        },
        "id": "AwozsjcEYd3k",
        "outputId": "e86aa634-f09f-4714-9805-a34bf73e06c5"
      },
      "execution_count": null,
      "outputs": [
        {
          "output_type": "stream",
          "name": "stdout",
          "text": [
            "15\n",
            "55\n",
            "75\n",
            "150\n",
            "200\n"
          ]
        }
      ]
    },
    {
      "cell_type": "code",
      "source": [
        "n=int(input(\"enter the table\"))\n",
        "for i in range (1,11):\n",
        "    print(n,\"*\",i,\"=\",n*i)"
      ],
      "metadata": {
        "colab": {
          "base_uri": "https://localhost:8080/"
        },
        "id": "1_sCQ9PDYgsa",
        "outputId": "e810efb5-7157-4118-9eb3-23b69683ad53"
      },
      "execution_count": null,
      "outputs": [
        {
          "output_type": "stream",
          "name": "stdout",
          "text": [
            "enter the table10\n",
            "10 * 1 = 10\n",
            "10 * 2 = 20\n",
            "10 * 3 = 30\n",
            "10 * 4 = 40\n",
            "10 * 5 = 50\n",
            "10 * 6 = 60\n",
            "10 * 7 = 70\n",
            "10 * 8 = 80\n",
            "10 * 9 = 90\n",
            "10 * 10 = 100\n"
          ]
        }
      ]
    },
    {
      "cell_type": "code",
      "source": [
        "n=int(input(\"enter the number\"))\n",
        "sum=0\n",
        "while (n>0):\n",
        "    d=n%10\n",
        "    sum=sum+d\n",
        "    n=n//10\n",
        "print(\"sum is\",sum)"
      ],
      "metadata": {
        "colab": {
          "base_uri": "https://localhost:8080/"
        },
        "id": "Kuecq1o0YjJh",
        "outputId": "58a45358-c2bf-4ebe-f405-d3a572a901d0"
      },
      "execution_count": null,
      "outputs": [
        {
          "output_type": "stream",
          "name": "stdout",
          "text": [
            "enter the number15\n",
            "sum is 6\n"
          ]
        }
      ]
    },
    {
      "cell_type": "code",
      "source": [
        ""
      ],
      "metadata": {
        "id": "EF3OU6GMYmcG"
      },
      "execution_count": null,
      "outputs": []
    },
    {
      "cell_type": "markdown",
      "source": [
        "# **INHERITANCE**"
      ],
      "metadata": {
        "id": "GxOrxSP2YuQt"
      }
    },
    {
      "cell_type": "code",
      "source": [
        "class abc:\n",
        "    def hello(self):\n",
        "        print(\"hiii\")\n",
        "class student:\n",
        "    def hi(self):\n",
        "        print(\"student\")\n",
        "k=student()\n",
        "z=abc()\n",
        "k.hi()\n",
        "z.hello()\n",
        "z=abc()\n",
        "z.hello()\n",
        "print(isinstance(z,abc))\n",
        "print(isinstance(k,abc))\n",
        "print(isinstance(k,student))"
      ],
      "metadata": {
        "colab": {
          "base_uri": "https://localhost:8080/"
        },
        "id": "_GCaqHmwYxSE",
        "outputId": "f1751764-12aa-442d-8b79-24d1651b509c"
      },
      "execution_count": null,
      "outputs": [
        {
          "output_type": "stream",
          "name": "stdout",
          "text": [
            "student\n",
            "hiii\n",
            "hiii\n",
            "True\n",
            "False\n",
            "True\n"
          ]
        }
      ]
    },
    {
      "cell_type": "code",
      "source": [
        "class a:\n",
        "    def hello(self):\n",
        "        print(\"ye mayank hai \")\n",
        "class b(a):\n",
        "    def hii(self):\n",
        "        print(\"ye mera laptop hai\")\n",
        "\n",
        "myobj=b()\n",
        "myobj.hello()\n",
        "myobj.hii()"
      ],
      "metadata": {
        "colab": {
          "base_uri": "https://localhost:8080/"
        },
        "id": "vTWBW-y-Yxp0",
        "outputId": "1b9199a0-3d92-4ec7-f7b8-251137b15506"
      },
      "execution_count": null,
      "outputs": [
        {
          "output_type": "stream",
          "name": "stdout",
          "text": [
            "ye mayank hai \n",
            "ye mera laptop hai\n"
          ]
        }
      ]
    },
    {
      "cell_type": "code",
      "source": [
        "class a:\n",
        "    def hello(self):\n",
        "        print(\"ye mayank hai \")\n",
        "class b(a):\n",
        "    def hii(self):\n",
        "       \n",
        "            print(\"ye mera laptop hai\")\n",
        "    def test(self):\n",
        "        self.hello()\n",
        "myobj=b()\n",
        "myobj.hello()\n",
        "myobj.hii()\n",
        "myobj.test()"
      ],
      "metadata": {
        "colab": {
          "base_uri": "https://localhost:8080/"
        },
        "id": "T1Tpbt7DYxl9",
        "outputId": "a644d608-baa0-4e85-e2a0-19fd5333e920"
      },
      "execution_count": null,
      "outputs": [
        {
          "output_type": "stream",
          "name": "stdout",
          "text": [
            "ye mayank hai \n",
            "ye mera laptop hai\n",
            "ye mayank hai \n"
          ]
        }
      ]
    },
    {
      "cell_type": "code",
      "source": [
        "class a:\n",
        "    w=90\n",
        "    def hello(self):\n",
        "        print(\"ye mayank hai \",self.w)\n",
        "class b(a):\n",
        "    def hii(self):\n",
        "       \n",
        "            print(\"ye mera laptop hai\",self.w)\n",
        "    def test(self):\n",
        "        self.hello()\n",
        "myobj=b()\n",
        "myobj.hii()\n",
        "myobj.test()"
      ],
      "metadata": {
        "colab": {
          "base_uri": "https://localhost:8080/"
        },
        "id": "t7jryZb6Yxir",
        "outputId": "ba62465f-5a5a-48b5-b5df-1841950b3b89"
      },
      "execution_count": null,
      "outputs": [
        {
          "output_type": "stream",
          "name": "stdout",
          "text": [
            "ye mera laptop hai 90\n",
            "ye mayank hai  90\n"
          ]
        }
      ]
    },
    {
      "cell_type": "code",
      "source": [
        "#multilevel  inheritance class\n",
        "class a:\n",
        "    def hello(self):\n",
        "        print(\"ye mayank hai \")\n",
        "class b(a):\n",
        "    def hii(self):\n",
        "        print(\"ye mera laptop hai\")\n",
        "class c(b):\n",
        "    def hehe(self):\n",
        "        print(\"i am i n c class\")\n",
        "myobj=c()\n",
        "myobj.hello()\n",
        "myobj.hii()\n",
        "myobj.hehe()"
      ],
      "metadata": {
        "colab": {
          "base_uri": "https://localhost:8080/"
        },
        "id": "Zto26sU6Yxfk",
        "outputId": "0f852efd-8d37-489a-903c-635e5f39704a"
      },
      "execution_count": null,
      "outputs": [
        {
          "output_type": "stream",
          "name": "stdout",
          "text": [
            "ye mayank hai \n",
            "ye mera laptop hai\n",
            "i am i n c class\n"
          ]
        }
      ]
    },
    {
      "cell_type": "code",
      "source": [
        "# multiple inheritance:-more than base class only one drived class\n",
        "class a:\n",
        "    def hi(self):\n",
        "        print(\"  i am in a\")\n",
        "class b:\n",
        "    def hm(self):\n",
        "        print (\"i am in b\")\n",
        "class c(a,b):\n",
        "    def hk(self):\n",
        "        print(\"i am in c\")\n",
        "s=c()\n",
        "s.hi()\n",
        "s.hk()\n",
        "s.hm()"
      ],
      "metadata": {
        "colab": {
          "base_uri": "https://localhost:8080/"
        },
        "id": "lPQRT0V4YxWE",
        "outputId": "83fae0bf-d087-4dbf-c34f-e25056a50796"
      },
      "execution_count": null,
      "outputs": [
        {
          "output_type": "stream",
          "name": "stdout",
          "text": [
            "  i am in a\n",
            "i am in c\n",
            "i am in b\n"
          ]
        }
      ]
    },
    {
      "cell_type": "code",
      "source": [
        "#hiarical inheritance\n",
        "\n",
        "class a:\n",
        "    def aa(self):\n",
        "        print(\"i am in a\")\n",
        "class b(a):\n",
        "    def bb(self):\n",
        "        print(\"i am in b\")        \n",
        "class c(a):\n",
        "    def cc(self):\n",
        "        self.aa()\n",
        "        print(\"i am in c\")\n",
        "class d(a):\n",
        "    def dd(self):\n",
        "        self.aa()\n",
        "        print(\"i am in d\")\n",
        "class e(b) :\n",
        "    def ee(self):\n",
        "        print(\"i am in e\") \n",
        "class f(b):\n",
        "    def ff(self):\n",
        "        print(\"i am in f\")\n",
        "class g(c):\n",
        "    def gg(self):\n",
        "        self.cc()\n",
        "        print(\"i am in g\")  \n",
        "class h(d):\n",
        "    def hh(self):\n",
        "        self.dd()\n",
        "        print(\"i am in h\")\n",
        "\n",
        "k=g()\n",
        "k.gg()\n",
        "j=h()\n",
        "j.hh()\n",
        "l=f()\n",
        "l.ff()\n",
        "o=e()\n",
        "o.ee()\n",
        "o.aa()\n",
        "o.bb()"
      ],
      "metadata": {
        "colab": {
          "base_uri": "https://localhost:8080/"
        },
        "id": "RY5ctJmpZDFO",
        "outputId": "fea9ba6c-d6e8-482a-a86a-30fb282d11fd"
      },
      "execution_count": null,
      "outputs": [
        {
          "output_type": "stream",
          "name": "stdout",
          "text": [
            "i am in a\n",
            "i am in c\n",
            "i am in g\n",
            "i am in a\n",
            "i am in d\n",
            "i am in h\n",
            "i am in f\n",
            "i am in e\n",
            "i am in a\n",
            "i am in b\n"
          ]
        }
      ]
    },
    {
      "cell_type": "code",
      "source": [
        "#hybriid inheritance\n",
        "\n",
        "class a:\n",
        "    def aa(self):\n",
        "        print(\"hello i am A\")\n",
        "class b(a):\n",
        "    def bb(self):\n",
        "        print(\"hello i AM  B\")\n",
        "class c(b):\n",
        "    def cc(self):\n",
        "    \n",
        "        print(\"hi i am C\")\n",
        "class d():\n",
        "    def ANKUSH(self):\n",
        "      \n",
        "        print(\"hww i am in D\")\n",
        "class e(c,d):\n",
        "    def anku(self):\n",
        "        self.cc()\n",
        "        print(\"hiii i am in E\")\n",
        "k=e()\n",
        "k.anku()\n",
        "k.ANKUSH()\n",
        "k.cc()\n",
        "k.bb()\n",
        "k.aa()"
      ],
      "metadata": {
        "colab": {
          "base_uri": "https://localhost:8080/"
        },
        "id": "kjxKg34tZJPW",
        "outputId": "0d94ead2-4727-4cd1-e3a3-86c424e80b25"
      },
      "execution_count": null,
      "outputs": [
        {
          "output_type": "stream",
          "name": "stdout",
          "text": [
            "hi i am C\n",
            "hiii i am in E\n",
            "hww i am in D\n",
            "hi i am C\n",
            "hello i AM  B\n",
            "hello i am A\n"
          ]
        }
      ]
    },
    {
      "cell_type": "code",
      "source": [
        "#super().__init__()\n",
        "class abc:\n",
        "    def  __init__ (self):\n",
        "         print(\"i am as constr\")\n",
        "class xyz(abc):\n",
        "     def __init__(self):\n",
        "        super().__init__()\n",
        "        print(\"i am in b constr\")\n",
        "w=xyz()        \n",
        "        "
      ],
      "metadata": {
        "colab": {
          "base_uri": "https://localhost:8080/"
        },
        "id": "cMu21O-0ZNMX",
        "outputId": "7b485ba5-b9df-4df3-f3db-9d1c27a35852"
      },
      "execution_count": null,
      "outputs": [
        {
          "output_type": "stream",
          "name": "stdout",
          "text": [
            "i am as constr\n",
            "i am in b constr\n"
          ]
        }
      ]
    },
    {
      "cell_type": "code",
      "source": [
        ""
      ],
      "metadata": {
        "id": "W36fkWWeZR-j"
      },
      "execution_count": null,
      "outputs": []
    },
    {
      "cell_type": "markdown",
      "source": [
        "# **OOPS CONCEPT**"
      ],
      "metadata": {
        "id": "kqClX-OdZWQm"
      }
    },
    {
      "cell_type": "code",
      "source": [
        "class abc:\n",
        "    def hello(chd):\n",
        "        print(\"hello\")\n",
        "ram=abc()\n",
        "ram.hello()"
      ],
      "metadata": {
        "colab": {
          "base_uri": "https://localhost:8080/"
        },
        "id": "fmfq-psKZaWr",
        "outputId": "796f0c74-d7b5-4288-8575-cda57d0c21d3"
      },
      "execution_count": null,
      "outputs": [
        {
          "output_type": "stream",
          "name": "stdout",
          "text": [
            "hello\n"
          ]
        }
      ]
    },
    {
      "cell_type": "code",
      "source": [
        "class abc:\n",
        "    def hello(chd):\n",
        "        print(\"hello\")\n",
        "    def by(chd,a,b):\n",
        "        c=a+b\n",
        "        print(\"sum is \",c)\n",
        "ram=abc()\n",
        "ram.hello()\n",
        "ram.by(12,34)"
      ],
      "metadata": {
        "colab": {
          "base_uri": "https://localhost:8080/"
        },
        "id": "-SprCo7QZarl",
        "outputId": "a4473a80-ece8-4a5d-b186-e6e27a268752"
      },
      "execution_count": null,
      "outputs": [
        {
          "output_type": "stream",
          "name": "stdout",
          "text": [
            "hello\n",
            "sum is  46\n"
          ]
        }
      ]
    },
    {
      "cell_type": "code",
      "source": [
        "class abc:\n",
        "    def hello(chd):\n",
        "        print(\"hello\")\n",
        "    def by(chd,a,b):\n",
        "        c=a+b\n",
        "        print(\"sum is \",c)\n",
        "    def ankush(ch):\n",
        "        a=12\n",
        "        b=13\n",
        "        c=a*b\n",
        "        return c\n",
        "ram=abc()\n",
        "ram.hello()\n",
        "ram.by(12,34)\n",
        "z=ram.ankush()\n",
        "print(\"result\",z)"
      ],
      "metadata": {
        "colab": {
          "base_uri": "https://localhost:8080/"
        },
        "id": "RmdDyVu3Zaok",
        "outputId": "6317fe95-81d8-48a4-d9c1-e1a537eef2d8"
      },
      "execution_count": null,
      "outputs": [
        {
          "output_type": "stream",
          "name": "stdout",
          "text": [
            "hello\n",
            "sum is  46\n",
            "result 156\n"
          ]
        }
      ]
    },
    {
      "cell_type": "code",
      "source": [
        "class student:\n",
        "    name=\"ankush\"\n",
        "    nam=\"abhilash\"\n",
        "    def record(ank):\n",
        "        print(\"my name is \"+ank.name)\n",
        "s=student()\n",
        "s.record()\n",
        "print(\"your name is \"+s.nam)"
      ],
      "metadata": {
        "colab": {
          "base_uri": "https://localhost:8080/"
        },
        "id": "ot2JZWXOZadG",
        "outputId": "e9acbb1d-8c38-4e67-d7de-df05078fbd3a"
      },
      "execution_count": null,
      "outputs": [
        {
          "output_type": "stream",
          "name": "stdout",
          "text": [
            "my name is ankush\n",
            "your name is abhilash\n"
          ]
        }
      ]
    },
    {
      "cell_type": "code",
      "source": [
        "#automatic call constructor\n",
        "class ankush:\n",
        "    def __init__(himachal):\n",
        "        print(\"hello\")\n",
        "    def hii(himachal):\n",
        "        print(\"how are you\",)\n",
        "z=ankush()        \n",
        "z.hii()     "
      ],
      "metadata": {
        "colab": {
          "base_uri": "https://localhost:8080/"
        },
        "id": "7Q-Qx0R4ZaaE",
        "outputId": "67efd8eb-bcf8-42e8-d20c-c2850171c0c8"
      },
      "execution_count": null,
      "outputs": [
        {
          "output_type": "stream",
          "name": "stdout",
          "text": [
            "hello\n",
            "how are you\n"
          ]
        }
      ]
    },
    {
      "cell_type": "code",
      "source": [
        "try:\n",
        "    a=12\n",
        "    print(\"a value is \",a)\n",
        "    print(z)\n",
        "except:\n",
        "    print(\"error\")\n",
        "print(\"how are you \")"
      ],
      "metadata": {
        "colab": {
          "base_uri": "https://localhost:8080/"
        },
        "id": "l92oRhs5Zp90",
        "outputId": "5e571a31-1d3f-4a86-c964-db727f74d68b"
      },
      "execution_count": null,
      "outputs": [
        {
          "output_type": "stream",
          "name": "stdout",
          "text": [
            "a value is  12\n",
            "<__main__.ankush object at 0x7fe1a7c586d0>\n",
            "how are you \n"
          ]
        }
      ]
    },
    {
      "cell_type": "code",
      "source": [
        "try:\n",
        "    a=12\n",
        "    z=13\n",
        "    print(\"a value is\",a)\n",
        "    print(z)\n",
        "except:\n",
        "    print(\"error\")\n",
        "else:\n",
        "    print(\"no problem\")\n",
        "print(\"how are you\")  "
      ],
      "metadata": {
        "colab": {
          "base_uri": "https://localhost:8080/"
        },
        "id": "NfxqW_LKZvob",
        "outputId": "1561fc26-bf87-4e51-ec9e-792c8ba84eb9"
      },
      "execution_count": null,
      "outputs": [
        {
          "output_type": "stream",
          "name": "stdout",
          "text": [
            "a value is 12\n",
            "13\n",
            "no problem\n",
            "how are you\n"
          ]
        }
      ]
    },
    {
      "cell_type": "code",
      "source": [
        "try:\n",
        "    a=12\n",
        "    z=13\n",
        "    print(\"a value is\",a)\n",
        "    print(z)\n",
        "except:\n",
        "    print(\"error\")\n",
        "else:\n",
        "    print(\"no problem\")\n",
        "finally:\n",
        "    print(\"exit\")\n",
        "print(\"how are you\")    "
      ],
      "metadata": {
        "colab": {
          "base_uri": "https://localhost:8080/"
        },
        "id": "b7fHl8BgZyPz",
        "outputId": "2d4859da-a29e-46ba-ffd4-a9c5cc319348"
      },
      "execution_count": null,
      "outputs": [
        {
          "output_type": "stream",
          "name": "stdout",
          "text": [
            "a value is 12\n",
            "13\n",
            "no problem\n",
            "exit\n",
            "how are you\n"
          ]
        }
      ]
    },
    {
      "cell_type": "code",
      "source": [
        "import datetime\n",
        "a=datetime.datetime(1998,9,20)\n",
        "print(a.strftime(\"%A\"))\n",
        "print(a.strftime(\"%a\"))\n",
        "print(a.strftime(\"%U\"))\n",
        "print(a.strftime(\"%j\"))\n",
        "print(a.strftime(\"%c\"))\n",
        "print(a.strftime(\"%C\"))\n",
        "print(a.strftime(\"%d\"))\n",
        "print(a.strftime(\"%D\"))\n",
        "print(a.strftime(\"%e\"))\n",
        "print(a.strftime(\"%f\"))"
      ],
      "metadata": {
        "colab": {
          "base_uri": "https://localhost:8080/"
        },
        "id": "3czDO8OhZ0Vq",
        "outputId": "8ba7e75c-cd4a-47f7-8695-cd05c1c9870d"
      },
      "execution_count": null,
      "outputs": [
        {
          "output_type": "stream",
          "name": "stdout",
          "text": [
            "Sunday\n",
            "Sun\n",
            "38\n",
            "263\n",
            "Sun Sep 20 00:00:00 1998\n",
            "19\n",
            "20\n",
            "09/20/98\n",
            "20\n",
            "000000\n"
          ]
        }
      ]
    },
    {
      "cell_type": "code",
      "source": [
        "import datetime\n",
        "z=datetime.datetime.now()\n",
        "print(z.strftime(\"%H\")+\":\"+z.strftime(\"%M\")+\":\"+z.strftime(\"%S\")+\":\"+z.strftime(\"%p\")+\":\"+z.strftime(\"%Y\"))"
      ],
      "metadata": {
        "colab": {
          "base_uri": "https://localhost:8080/"
        },
        "id": "V-KN3K6HZ-ve",
        "outputId": "6f4a175b-d424-4bbd-b7db-12d98f2965f8"
      },
      "execution_count": null,
      "outputs": [
        {
          "output_type": "stream",
          "name": "stdout",
          "text": [
            "11:35:41:AM:2022\n"
          ]
        }
      ]
    },
    {
      "cell_type": "code",
      "source": [
        "import datetime\n",
        "z=datetime.datetime.now()\n",
        "print(z.strftime(\"%H\")+\":\"+z.strftime(\"%M\")+\"\"+z.strftime(\"%p\"))"
      ],
      "metadata": {
        "colab": {
          "base_uri": "https://localhost:8080/"
        },
        "id": "1CTvwvHQaEpI",
        "outputId": "0d3b0e5e-5abe-44f5-987d-6b75549cf36e"
      },
      "execution_count": null,
      "outputs": [
        {
          "output_type": "stream",
          "name": "stdout",
          "text": [
            "11:40AM\n"
          ]
        }
      ]
    },
    {
      "cell_type": "code",
      "source": [
        "import datetime\n",
        "a=datetime.datetime(2000,9,14)\n",
        "print(a.strftime(\"%u\"))\n",
        "print(a.strftime(\"%U\"))\n",
        "print(a.strftime(\"%w\"))    "
      ],
      "metadata": {
        "colab": {
          "base_uri": "https://localhost:8080/"
        },
        "id": "70gIjGtZbRDt",
        "outputId": "8608fcdb-d53e-4821-be87-c84b2ac46680"
      },
      "execution_count": null,
      "outputs": [
        {
          "output_type": "stream",
          "name": "stdout",
          "text": [
            "4\n",
            "37\n",
            "4\n"
          ]
        }
      ]
    },
    {
      "cell_type": "code",
      "source": [
        "import datetime\n",
        "a=datetime.datetime(2000,9,14)\n",
        "print(a.strftime(\"%j\"))"
      ],
      "metadata": {
        "colab": {
          "base_uri": "https://localhost:8080/"
        },
        "id": "G78UZLuzbUvM",
        "outputId": "b440688c-3e40-4c1b-b295-6daaecfc168a"
      },
      "execution_count": null,
      "outputs": [
        {
          "output_type": "stream",
          "name": "stdout",
          "text": [
            "258\n"
          ]
        }
      ]
    },
    {
      "cell_type": "code",
      "source": [
        "import datetime\n",
        "a=datetime.datetime(2000,9,14)\n",
        "print(a.strftime(\"%Y\"))"
      ],
      "metadata": {
        "colab": {
          "base_uri": "https://localhost:8080/"
        },
        "id": "o0p8IP4RbZH3",
        "outputId": "f3583c63-a837-455d-f3cb-6a2e1c27407b"
      },
      "execution_count": null,
      "outputs": [
        {
          "output_type": "stream",
          "name": "stdout",
          "text": [
            "2000\n"
          ]
        }
      ]
    },
    {
      "cell_type": "code",
      "source": [
        "class a:\n",
        "    def hii():\n",
        "        print(\"ankush\")\n",
        "a.hii=staticmethod(a.hii)\n",
        "a.hii()"
      ],
      "metadata": {
        "colab": {
          "base_uri": "https://localhost:8080/"
        },
        "id": "5BKlM3tzbmST",
        "outputId": "e81fdbce-3533-4211-bcc1-107a200989c1"
      },
      "execution_count": null,
      "outputs": [
        {
          "output_type": "stream",
          "name": "stdout",
          "text": [
            "ankush\n"
          ]
        }
      ]
    },
    {
      "cell_type": "code",
      "source": [
        "try:\n",
        "    a=12\n",
        "    z=13\n",
        "    print(\"a value is\",a)\n",
        "    print(z)\n",
        "    print(k)\n",
        "except:\n",
        "    print(\"error\")\n",
        "else:\n",
        "    print(\"no problem\")\n",
        "    print(\"how are you\")"
      ],
      "metadata": {
        "colab": {
          "base_uri": "https://localhost:8080/"
        },
        "id": "ZeeKMA6hbppr",
        "outputId": "a8a44e1d-5035-4d79-aa68-60bc2116adf5"
      },
      "execution_count": null,
      "outputs": [
        {
          "output_type": "stream",
          "name": "stdout",
          "text": [
            "a value is 12\n",
            "13\n",
            "<__main__.e object at 0x7fe1a7c47710>\n",
            "no problem\n",
            "how are you\n"
          ]
        }
      ]
    },
    {
      "cell_type": "code",
      "source": [
        "import datetime\n",
        "z=datetime.datetime.now()\n",
        "print(z)"
      ],
      "metadata": {
        "colab": {
          "base_uri": "https://localhost:8080/"
        },
        "id": "5gVAuaGUbsGL",
        "outputId": "403125a5-b74f-4519-fe27-98b6a3f85b75"
      },
      "execution_count": null,
      "outputs": [
        {
          "output_type": "stream",
          "name": "stdout",
          "text": [
            "2022-04-11 11:43:01.514228\n"
          ]
        }
      ]
    },
    {
      "cell_type": "code",
      "source": [
        "import datetime\n",
        "a=datetime.datetime(2000,9,14)\n",
        "print(a)"
      ],
      "metadata": {
        "colab": {
          "base_uri": "https://localhost:8080/"
        },
        "id": "ULrOKITibwIH",
        "outputId": "d576506f-2c4e-4628-fae6-489cd5952407"
      },
      "execution_count": null,
      "outputs": [
        {
          "output_type": "stream",
          "name": "stdout",
          "text": [
            "2000-09-14 00:00:00\n"
          ]
        }
      ]
    },
    {
      "cell_type": "code",
      "source": [
        "import datetime\n",
        "a=datetime.datetime(2000,9,14)\n",
        "print(a.strftime(\"%a\"))"
      ],
      "metadata": {
        "colab": {
          "base_uri": "https://localhost:8080/"
        },
        "id": "jWBCGKzwbykZ",
        "outputId": "4134599e-be88-4fb4-85a5-069ebddb5604"
      },
      "execution_count": null,
      "outputs": [
        {
          "output_type": "stream",
          "name": "stdout",
          "text": [
            "Thu\n"
          ]
        }
      ]
    },
    {
      "cell_type": "code",
      "source": [
        ""
      ],
      "metadata": {
        "id": "-EjNMzF_b6nc"
      },
      "execution_count": null,
      "outputs": []
    },
    {
      "cell_type": "markdown",
      "source": [
        "# **ploymorphism**"
      ],
      "metadata": {
        "id": "_SPY7Ltxb9MS"
      }
    },
    {
      "cell_type": "code",
      "source": [
        "#function overiding\n",
        "class a:\n",
        "    def student(self):\n",
        "        print(\"i am in base class\")\n",
        "class b(a):\n",
        "    def student(self):\n",
        "        print(\"i am in derived class\")\n",
        "k=b()\n",
        "k.student()\n",
        "k.student()"
      ],
      "metadata": {
        "colab": {
          "base_uri": "https://localhost:8080/"
        },
        "id": "UwOg_OGocPEc",
        "outputId": "a38babea-85b3-43fb-c66b-47d8a2037db3"
      },
      "execution_count": null,
      "outputs": [
        {
          "output_type": "stream",
          "name": "stdout",
          "text": [
            "i am in derived class\n",
            "i am in derived class\n"
          ]
        }
      ]
    },
    {
      "cell_type": "code",
      "source": [
        "#class with method polymorphism(overriding)\n",
        "class abc:\n",
        "    def student(self):\n",
        "        print(\"how are you\")\n",
        "class xyz:\n",
        "    def student(self):\n",
        "        print(\"by......\")\n",
        "k=abc()\n",
        "w=xyz()\n",
        "for i in (k,w):\n",
        "    i.student()"
      ],
      "metadata": {
        "colab": {
          "base_uri": "https://localhost:8080/"
        },
        "id": "p3oSZwYucPkS",
        "outputId": "de06319c-71e4-446f-881f-1891ffeded9d"
      },
      "execution_count": null,
      "outputs": [
        {
          "output_type": "stream",
          "name": "stdout",
          "text": [
            "how are you\n",
            "by......\n"
          ]
        }
      ]
    },
    {
      "cell_type": "code",
      "source": [
        "#function with inheritance polymorphism(overriding)\n",
        "\n",
        "class abc:\n",
        "    def student(self):\n",
        "        print(\"how are you\")\n",
        "class xyz:\n",
        "    def student(self):\n",
        "        print(\"by......\")\n",
        "k=abc()\n",
        "w=xyz()\n",
        "k.student()\n",
        "w.student()"
      ],
      "metadata": {
        "colab": {
          "base_uri": "https://localhost:8080/"
        },
        "id": "ZajSdrU-cPgG",
        "outputId": "cfa34092-4ecc-403d-dbe6-3fcb4343cbde"
      },
      "execution_count": null,
      "outputs": [
        {
          "output_type": "stream",
          "name": "stdout",
          "text": [
            "how are you\n",
            "by......\n"
          ]
        }
      ]
    },
    {
      "cell_type": "code",
      "source": [
        "#function with inheritance polymorphism with default (indepedent function)(overriding)\n",
        "\n",
        "class abc:\n",
        "    def student(self):\n",
        "        print(\"how are you\")\n",
        "class xyz:\n",
        "    def student(self):\n",
        "        print(\"by......\")\n",
        "#(indepent function)        \n",
        "def start(q):\n",
        "    q.student()\n",
        "k=abc()\n",
        "w=xyz()\n",
        "start(k)\n",
        "start(w)"
      ],
      "metadata": {
        "colab": {
          "base_uri": "https://localhost:8080/"
        },
        "id": "N8u97wAGcPcS",
        "outputId": "67d7f5b3-235b-42ce-803b-37f5b1c71efd"
      },
      "execution_count": null,
      "outputs": [
        {
          "output_type": "stream",
          "name": "stdout",
          "text": [
            "how are you\n",
            "by......\n"
          ]
        }
      ]
    },
    {
      "cell_type": "code",
      "source": [
        "#class method\n",
        "class fan:\n",
        "    k=12\n",
        "    def start():\n",
        "        print(\"bhii\")\n",
        "    def hi(z):\n",
        "        print(\"value is\",z.k)\n",
        "fan.start=staticmethod(fan.start)\n",
        "fan.start()\n",
        "fan.hi=classmethod(fan.hi)\n",
        "fan.hi()"
      ],
      "metadata": {
        "colab": {
          "base_uri": "https://localhost:8080/"
        },
        "id": "bfgmd5YAcgrp",
        "outputId": "efa2285a-ee51-4116-bc07-b61485f13070"
      },
      "execution_count": null,
      "outputs": [
        {
          "output_type": "stream",
          "name": "stdout",
          "text": [
            "bhii\n",
            "value is 12\n"
          ]
        }
      ]
    },
    {
      "cell_type": "code",
      "source": [
        "#staticmethod\n",
        "class xy:\n",
        "    def hi():\n",
        "        print (\"how are you\")\n",
        "xy.hi=staticmethod(xy.hi)\n",
        "xy.hi()"
      ],
      "metadata": {
        "colab": {
          "base_uri": "https://localhost:8080/"
        },
        "id": "5rYnI5-zcorp",
        "outputId": "7e01220f-060a-4289-a891-aa058426ae41"
      },
      "execution_count": null,
      "outputs": [
        {
          "output_type": "stream",
          "name": "stdout",
          "text": [
            "how are you\n"
          ]
        }
      ]
    },
    {
      "cell_type": "code",
      "source": [
        ""
      ],
      "metadata": {
        "id": "q_kFKHyrctgi"
      },
      "execution_count": null,
      "outputs": []
    }
  ]
}